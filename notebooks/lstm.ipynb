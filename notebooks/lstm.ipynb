{
  "cells": [
    {
      "cell_type": "code",
      "execution_count": 10,
      "metadata": {
        "colab": {
          "base_uri": "https://localhost:8080/"
        },
        "id": "srvJSehxYoi9",
        "outputId": "c822e4bd-e5e3-4f0e-81f3-0ef2897ce475"
      },
      "outputs": [],
      "source": [
        "import re\n",
        "import pandas as pd\n",
        "import numpy as np\n",
        "import seaborn as sns\n",
        "\n",
        "\n",
        "from sklearn.metrics import classification_report, confusion_matrix\n",
        "\n",
        "from nltk.corpus import stopwords\n",
        "from nltk.stem import PorterStemmer\n",
        "from nltk.stem import WordNetLemmatizer\n",
        "from nltk.tokenize import word_tokenize\n",
        "\n",
        "from keras import Sequential\n",
        "from keras.initializers import Constant\n",
        "from keras.layers import LSTM, Flatten, Dense, Dropout, Embedding\n",
        "from keras.layers import Dropout\n",
        "from tensorflow.keras.preprocessing import sequence\n",
        "from tensorflow.keras.utils import to_categorical\n",
        "from tensorflow.keras.preprocessing.text import Tokenizer\n",
        "\n",
        "import gensim\n",
        "from gensim.models import Word2Vec, KeyedVectors"
      ]
    },
    {
      "cell_type": "code",
      "execution_count": 2,
      "metadata": {},
      "outputs": [],
      "source": [
        "df = pd.read_csv('./raw_data/fulltrain.csv', header=None, names=['Verdict', 'Text']).sample(frac=1)\n",
        "df_test = pd.read_csv('./raw_data/balancedtest.csv', header=None, names=['Verdict', 'Text'])\n",
        "\n",
        "X_train = df['Text']\n",
        "y_train = df['Verdict']\n",
        "X_test = df_test['Text']\n",
        "y_test = df_test['Verdict']"
      ]
    },
    {
      "cell_type": "code",
      "execution_count": 3,
      "metadata": {},
      "outputs": [
        {
          "data": {
            "image/png": "[encoded data removed]",
            "text/plain": [
              "<Figure size 640x480 with 1 Axes>"
            ]
          },
          "metadata": {},
          "output_type": "display_data"
        }
      ],
      "source": [
        "import matplotlib.pyplot as plt\n",
        "\n",
        "# Count the occurrences of each unique value in y_train\n",
        "value_counts = y_train.value_counts()\n",
        "\n",
        "# Plot the data imbalance in a bar chart\n",
        "value_counts.plot(kind='bar')\n",
        "\n",
        "# Add labels and title\n",
        "plt.xlabel('Class')\n",
        "plt.ylabel('Count')\n",
        "plt.title('Data Imbalance')\n",
        "\n",
        "# Display the bar chart\n",
        "plt.show()"
      ]
    },
    {
      "cell_type": "markdown",
      "metadata": {
        "id": "Uij5DUGpHjaA"
      },
      "source": [
        "# Data Cleaning"
      ]
    },
    {
      "cell_type": "code",
      "execution_count": 4,
      "metadata": {
        "colab": {
          "base_uri": "https://localhost:8080/",
          "height": 327
        },
        "id": "HXXg0Lf315JO",
        "outputId": "4a901c55-1b9a-45bf-ce47-cf5bdaafc4cd"
      },
      "outputs": [
        {
          "data": {
            "text/html": [
              "<div>\n",
              "<style scoped>\n",
              "    .dataframe tbody tr th:only-of-type {\n",
              "        vertical-align: middle;\n",
              "    }\n",
              "\n",
              "    .dataframe tbody tr th {\n",
              "        vertical-align: top;\n",
              "    }\n",
              "\n",
              "    .dataframe thead th {\n",
              "        text-align: right;\n",
              "    }\n",
              "</style>\n",
              "<table border=\"1\" class=\"dataframe\">\n",
              "  <thead>\n",
              "    <tr style=\"text-align: right;\">\n",
              "      <th></th>\n",
              "      <th>Preprocessor</th>\n",
              "      <th>Before</th>\n",
              "      <th>After</th>\n",
              "    </tr>\n",
              "  </thead>\n",
              "  <tbody>\n",
              "    <tr>\n",
              "      <th>0</th>\n",
              "      <td>LOWERCASE</td>\n",
              "      <td>I am going to bed, my school starts at 8:00.</td>\n",
              "      <td>i am going to bed, my school starts at 8:00.</td>\n",
              "    </tr>\n",
              "    <tr>\n",
              "      <th>1</th>\n",
              "      <td>LEMMATIZE</td>\n",
              "      <td>I am going to bed, my school starts at 8:00.</td>\n",
              "      <td>I am going to bed , my school start at 8:00 .</td>\n",
              "    </tr>\n",
              "    <tr>\n",
              "      <th>2</th>\n",
              "      <td>STEM</td>\n",
              "      <td>I am going to bed, my school starts at 8:00.</td>\n",
              "      <td>i am go to bed , my school start at 8:00 .</td>\n",
              "    </tr>\n",
              "    <tr>\n",
              "      <th>3</th>\n",
              "      <td>REMOVE_NUMBERS</td>\n",
              "      <td>I am going to bed, my school starts at 8:00.</td>\n",
              "      <td>I am going to bed, my school starts at :.</td>\n",
              "    </tr>\n",
              "    <tr>\n",
              "      <th>4</th>\n",
              "      <td>REMOVE_PUNCTUATIONS</td>\n",
              "      <td>I am going to bed, my school starts at 8:00.</td>\n",
              "      <td>I am going to bed my school starts at 800</td>\n",
              "    </tr>\n",
              "    <tr>\n",
              "      <th>5</th>\n",
              "      <td>REMOVE_STOPWORDS</td>\n",
              "      <td>I am going to bed, my school starts at 8:00.</td>\n",
              "      <td>I going bed , school starts 8:00 .</td>\n",
              "    </tr>\n",
              "  </tbody>\n",
              "</table>\n",
              "</div>"
            ],
            "text/plain": [
              "          Preprocessor                                        Before  \\\n",
              "0            LOWERCASE  I am going to bed, my school starts at 8:00.   \n",
              "1            LEMMATIZE  I am going to bed, my school starts at 8:00.   \n",
              "2                 STEM  I am going to bed, my school starts at 8:00.   \n",
              "3       REMOVE_NUMBERS  I am going to bed, my school starts at 8:00.   \n",
              "4  REMOVE_PUNCTUATIONS  I am going to bed, my school starts at 8:00.   \n",
              "5     REMOVE_STOPWORDS  I am going to bed, my school starts at 8:00.   \n",
              "\n",
              "                                           After  \n",
              "0   i am going to bed, my school starts at 8:00.  \n",
              "1  I am going to bed , my school start at 8:00 .  \n",
              "2     i am go to bed , my school start at 8:00 .  \n",
              "3      I am going to bed, my school starts at :.  \n",
              "4      I am going to bed my school starts at 800  \n",
              "5             I going bed , school starts 8:00 .  "
            ]
          },
          "execution_count": 4,
          "metadata": {},
          "output_type": "execute_result"
        }
      ],
      "source": [
        "lemmatizer = WordNetLemmatizer()\n",
        "ps = PorterStemmer()\n",
        "\n",
        "# Preprocessors\n",
        "def lowercase(text):\n",
        "  return text.lower()\n",
        "\n",
        "def lemmatize(text):\n",
        "  words = word_tokenize(text)\n",
        "  return ' '.join([lemmatizer.lemmatize(word) for word in words])\n",
        "\n",
        "def stem(text):\n",
        "  words = word_tokenize(text)\n",
        "  return ' '.join([ps.stem(word) for word in words])\n",
        "\n",
        "def remove_numbers(text):\n",
        "  return re.sub(r'\\d+', '', text)\n",
        "\n",
        "def remove_punctuations(text):\n",
        "  return re.sub(r'[^\\w\\s]', '', text)\n",
        "\n",
        "def remove_stopwords(text):\n",
        "  words = word_tokenize(text)\n",
        "  return ' '.join([word for word in words if word not in stopwords.words('english')])\n",
        "\n",
        "Preprocessor = {\n",
        "    'LOWERCASE': lowercase,\n",
        "    'LEMMATIZE': lemmatize,\n",
        "    'STEM': stem,\n",
        "    'REMOVE_NUMBERS': remove_numbers,\n",
        "    'REMOVE_PUNCTUATIONS': remove_punctuations,\n",
        "    'REMOVE_STOPWORDS': remove_stopwords\n",
        "}\n",
        "\n",
        "SAMPLE_TEXT = \"I am going to bed, my school starts at 8:00.\"\n",
        "BEFORE_AND_AFTER_PREPROCESS_LIST = [[preprocessor, SAMPLE_TEXT, Preprocessor[preprocessor](SAMPLE_TEXT)] for preprocessor in Preprocessor]\n",
        "pd.DataFrame(BEFORE_AND_AFTER_PREPROCESS_LIST, columns=['Preprocessor', 'Before', 'After'])"
      ]
    },
    {
      "cell_type": "code",
      "execution_count": 5,
      "metadata": {
        "colab": {
          "base_uri": "https://localhost:8080/",
          "height": 206
        },
        "id": "98Dp8wtbXxTZ",
        "outputId": "d98d0b2c-5e5b-49cb-8a92-3c41948044a9"
      },
      "outputs": [
        {
          "data": {
            "text/html": [
              "<div>\n",
              "<style scoped>\n",
              "    .dataframe tbody tr th:only-of-type {\n",
              "        vertical-align: middle;\n",
              "    }\n",
              "\n",
              "    .dataframe tbody tr th {\n",
              "        vertical-align: top;\n",
              "    }\n",
              "\n",
              "    .dataframe thead th {\n",
              "        text-align: right;\n",
              "    }\n",
              "</style>\n",
              "<table border=\"1\" class=\"dataframe\">\n",
              "  <thead>\n",
              "    <tr style=\"text-align: right;\">\n",
              "      <th></th>\n",
              "      <th>Text</th>\n",
              "      <th>cleaned_text</th>\n",
              "    </tr>\n",
              "  </thead>\n",
              "  <tbody>\n",
              "    <tr>\n",
              "      <th>17873</th>\n",
              "      <td>Muslim Terrorist Tried To Hijack A Plane And T...</td>\n",
              "      <td>muslim terrorist tried to hijack a plane and t...</td>\n",
              "    </tr>\n",
              "    <tr>\n",
              "      <th>9508</th>\n",
              "      <td>Though already extremely painful, the physical...</td>\n",
              "      <td>though already extremely painful, the physical...</td>\n",
              "    </tr>\n",
              "    <tr>\n",
              "      <th>16530</th>\n",
              "      <td>We MUST STOP CAIR From Doing THIS To Our Veter...</td>\n",
              "      <td>we must stop cair from doing this to our veter...</td>\n",
              "    </tr>\n",
              "    <tr>\n",
              "      <th>19075</th>\n",
              "      <td>Whoopi Goldberg Has Finally Crossed The Line A...</td>\n",
              "      <td>whoopi goldberg has finally crossed the line a...</td>\n",
              "    </tr>\n",
              "    <tr>\n",
              "      <th>27833</th>\n",
              "      <td>FBI Casting Set Stage for Boston Marathon Bomb...</td>\n",
              "      <td>fbi casting set stage for boston marathon bomb...</td>\n",
              "    </tr>\n",
              "  </tbody>\n",
              "</table>\n",
              "</div>"
            ],
            "text/plain": [
              "                                                    Text  \\\n",
              "17873  Muslim Terrorist Tried To Hijack A Plane And T...   \n",
              "9508   Though already extremely painful, the physical...   \n",
              "16530  We MUST STOP CAIR From Doing THIS To Our Veter...   \n",
              "19075  Whoopi Goldberg Has Finally Crossed The Line A...   \n",
              "27833  FBI Casting Set Stage for Boston Marathon Bomb...   \n",
              "\n",
              "                                            cleaned_text  \n",
              "17873  muslim terrorist tried to hijack a plane and t...  \n",
              "9508   though already extremely painful, the physical...  \n",
              "16530  we must stop cair from doing this to our veter...  \n",
              "19075  whoopi goldberg has finally crossed the line a...  \n",
              "27833  fbi casting set stage for boston marathon bomb...  "
            ]
          },
          "execution_count": 5,
          "metadata": {},
          "output_type": "execute_result"
        }
      ],
      "source": [
        "# Preprocess text\n",
        "def combine_preprocessors(preprocessors):\n",
        "  def preprocess(text):\n",
        "    cleaned_text = text\n",
        "    for preprocessor in preprocessors:\n",
        "      cleaned_text = preprocessor(cleaned_text)\n",
        "\n",
        "    return cleaned_text\n",
        "\n",
        "  return preprocess\n",
        "\n",
        "df['cleaned_text'] = df['Text'].apply(combine_preprocessors([\n",
        "    Preprocessor['LOWERCASE'],\n",
        "    Preprocessor['REMOVE_NUMBERS']\n",
        "]))\n",
        "\n",
        "df_test['cleaned_text'] = df_test['Text'].apply(combine_preprocessors([\n",
        "    Preprocessor['LOWERCASE'],\n",
        "    Preprocessor['REMOVE_NUMBERS'],\n",
        "    Preprocessor['REMOVE_PUNCTUATIONS']\n",
        "]))\n",
        "\n",
        "df[['Text', 'cleaned_text']].head()"
      ]
    },
    {
      "cell_type": "markdown",
      "metadata": {},
      "source": [
        "# Embedding"
      ]
    },
    {
      "cell_type": "code",
      "execution_count": 49,
      "metadata": {},
      "outputs": [
        {
          "data": {
            "text/plain": [
              "(218148986, 292876510)"
            ]
          },
          "execution_count": 49,
          "metadata": {},
          "output_type": "execute_result"
        }
      ],
      "source": [
        "# Tune Google Pre-trained Word2Vec model\n",
        "tokenized_text = df['cleaned_text'].apply(word_tokenize)\n",
        "w2v_model = gensim.models.Word2Vec(sentences=tokenized_text, window=10, min_count=1, vector_size=100)\n",
        "w2v_model.train(tokenized_text,epochs=10,total_examples=len(df['cleaned_text']))"
      ]
    },
    {
      "cell_type": "code",
      "execution_count": 18,
      "metadata": {},
      "outputs": [],
      "source": [
        "w2v_model_google = KeyedVectors.load_word2vec_format('GoogleNews-vectors-negative300.bin', binary=True)"
      ]
    },
    {
      "cell_type": "code",
      "execution_count": 20,
      "metadata": {},
      "outputs": [
        {
          "name": "stdout",
          "output_type": "stream",
          "text": [
            "Length of word2vec vocab:  309209\n"
          ]
        }
      ],
      "source": [
        "# Check vocab size\n",
        "print(\"Length of word2vec vocab: \", len(w2v_model.wv.index_to_key))"
      ]
    },
    {
      "cell_type": "code",
      "execution_count": 7,
      "metadata": {},
      "outputs": [],
      "source": [
        "# Padding\n",
        "tok = Tokenizer()\n",
        "tok.fit_on_texts(df['cleaned_text'])\n",
        "vocab_size = len(tok.word_index) + 1\n",
        "df['encoded_text'] = tok.texts_to_sequences(df['cleaned_text'])\n",
        "df_test['encoded_text'] = tok.texts_to_sequences(df_test['cleaned_text']) "
      ]
    },
    {
      "cell_type": "code",
      "execution_count": 50,
      "metadata": {},
      "outputs": [],
      "source": [
        "MAX_NEWS_LENGTH = 1000\n",
        "VOCAB_SIZE = len(tok.word_index) + 1\n",
        "EMBEDDING_DIM = 100\n",
        "# EMBEDDING_DIM = 300"
      ]
    },
    {
      "cell_type": "code",
      "execution_count": 51,
      "metadata": {},
      "outputs": [],
      "source": [
        "# Padding sequence using pre padding\n",
        "df['padded_seq'] = list(sequence.pad_sequences(df['encoded_text'], maxlen=MAX_NEWS_LENGTH, padding='pre'))\n",
        "df_test['padded_seq'] = list(sequence.pad_sequences(df_test['encoded_text'], maxlen=MAX_NEWS_LENGTH, padding='pre'))"
      ]
    },
    {
      "cell_type": "code",
      "execution_count": 52,
      "metadata": {},
      "outputs": [],
      "source": [
        "# now creating the embedding matrix\n",
        "embed_matrix=np.zeros(shape=(VOCAB_SIZE,EMBEDDING_DIM))\n",
        "for word,i in tok.word_index.items():\n",
        "    try:\n",
        "        embed_vector = w2v_model.wv.get_vector(word)\n",
        "        embed_matrix[i]=embed_vector\n",
        "    except KeyError:\n",
        "        continue"
      ]
    },
    {
      "cell_type": "code",
      "execution_count": 24,
      "metadata": {},
      "outputs": [
        {
          "name": "stdout",
          "output_type": "stream",
          "text": [
            "(248421, 300)\n",
            "29594\n",
            "[[ 0.          0.          0.         ...  0.          0.\n",
            "   0.        ]\n",
            " [ 0.08007812  0.10498047  0.04980469 ...  0.00366211  0.04760742\n",
            "  -0.06884766]\n",
            " [-1.42208421  0.0928982  -1.80263293 ...  1.46269059  1.31506169\n",
            "  -2.07315922]\n",
            " ...\n",
            " [-0.0366235  -0.02261928  0.04767653 ... -0.01535209 -0.01273654\n",
            "  -0.0063841 ]\n",
            " [ 0.01714012  0.02887396  0.04432977 ...  0.05523696  0.03084013\n",
            "   0.00563097]\n",
            " [ 0.          0.          0.         ...  0.          0.\n",
            "   0.        ]]\n"
          ]
        }
      ],
      "source": [
        "embedding_matrix = np.zeros((len(tok.word_index) + 1, EMBEDDING_DIM))\n",
        "for word, i in tok.word_index.items():\n",
        "    if word in w2v_model_google:\n",
        "        embedding_matrix[i] = w2v_model_google[word]\n",
        "    else:\n",
        "        try:\n",
        "            embedding_matrix[i] = w2v_model.wv.get_vector(word)\n",
        "        except KeyError:\n",
        "            continue\n",
        "\n",
        "print(embedding_matrix.shape)\n",
        "print(np.sum(np.all(embedding_matrix == 0, axis=1)))\n",
        "print(embedding_matrix)"
      ]
    },
    {
      "cell_type": "code",
      "execution_count": 26,
      "metadata": {},
      "outputs": [
        {
          "data": {
            "text/plain": [
              "248421"
            ]
          },
          "execution_count": 26,
          "metadata": {},
          "output_type": "execute_result"
        }
      ],
      "source": [
        "len(embedding_matrix)"
      ]
    },
    {
      "cell_type": "markdown",
      "metadata": {},
      "source": [
        "# Preparing Training and Test Data"
      ]
    },
    {
      "cell_type": "code",
      "execution_count": 53,
      "metadata": {},
      "outputs": [],
      "source": [
        "X_train = np.array(df['padded_seq'].tolist())\n",
        "X_test = np.array(df_test['padded_seq'].tolist())\n",
        "\n",
        "y_train = to_categorical(df['Verdict'].apply(lambda x: x - 1), num_classes=4)\n",
        "y_test = to_categorical(df_test['Verdict'].apply(lambda x: x - 1), num_classes=4)"
      ]
    },
    {
      "cell_type": "markdown",
      "metadata": {
        "id": "mW12FLGWUcI3"
      },
      "source": [
        "# Model Selection"
      ]
    },
    {
      "cell_type": "code",
      "execution_count": 113,
      "metadata": {
        "id": "dphIiZ1zUbxc"
      },
      "outputs": [
        {
          "data": {
            "text/html": [
              "<pre style=\"white-space:pre;overflow-x:auto;line-height:normal;font-family:Menlo,'DejaVu Sans Mono',consolas,'Courier New',monospace\"><span style=\"font-weight: bold\">Model: \"sequential_9\"</span>\n",
              "</pre>\n"
            ],
            "text/plain": [
              "\u001b[1mModel: \"sequential_9\"\u001b[0m\n"
            ]
          },
          "metadata": {},
          "output_type": "display_data"
        },
        {
          "data": {
            "text/html": [
              "<pre style=\"white-space:pre;overflow-x:auto;line-height:normal;font-family:Menlo,'DejaVu Sans Mono',consolas,'Courier New',monospace\">┏━━━━━━━━━━━━━━━━━━━━━━━━━━━━━━━━━┳━━━━━━━━━━━━━━━━━━━━━━━━┳━━━━━━━━━━━━━━━┓\n",
              "┃<span style=\"font-weight: bold\"> Layer (type)                    </span>┃<span style=\"font-weight: bold\"> Output Shape           </span>┃<span style=\"font-weight: bold\">       Param # </span>┃\n",
              "┡━━━━━━━━━━━━━━━━━━━━━━━━━━━━━━━━━╇━━━━━━━━━━━━━━━━━━━━━━━━╇━━━━━━━━━━━━━━━┩\n",
              "│ embedding_9 (<span style=\"color: #0087ff; text-decoration-color: #0087ff\">Embedding</span>)         │ ?                      │   <span style=\"color: #00af00; text-decoration-color: #00af00\">0</span> (unbuilt) │\n",
              "├─────────────────────────────────┼────────────────────────┼───────────────┤\n",
              "│ lstm_9 (<span style=\"color: #0087ff; text-decoration-color: #0087ff\">LSTM</span>)                   │ ?                      │   <span style=\"color: #00af00; text-decoration-color: #00af00\">0</span> (unbuilt) │\n",
              "├─────────────────────────────────┼────────────────────────┼───────────────┤\n",
              "│ flatten_9 (<span style=\"color: #0087ff; text-decoration-color: #0087ff\">Flatten</span>)             │ ?                      │   <span style=\"color: #00af00; text-decoration-color: #00af00\">0</span> (unbuilt) │\n",
              "├─────────────────────────────────┼────────────────────────┼───────────────┤\n",
              "│ dense_30 (<span style=\"color: #0087ff; text-decoration-color: #0087ff\">Dense</span>)                │ ?                      │   <span style=\"color: #00af00; text-decoration-color: #00af00\">0</span> (unbuilt) │\n",
              "├─────────────────────────────────┼────────────────────────┼───────────────┤\n",
              "│ dense_31 (<span style=\"color: #0087ff; text-decoration-color: #0087ff\">Dense</span>)                │ ?                      │   <span style=\"color: #00af00; text-decoration-color: #00af00\">0</span> (unbuilt) │\n",
              "├─────────────────────────────────┼────────────────────────┼───────────────┤\n",
              "│ dense_32 (<span style=\"color: #0087ff; text-decoration-color: #0087ff\">Dense</span>)                │ ?                      │   <span style=\"color: #00af00; text-decoration-color: #00af00\">0</span> (unbuilt) │\n",
              "├─────────────────────────────────┼────────────────────────┼───────────────┤\n",
              "│ dense_33 (<span style=\"color: #0087ff; text-decoration-color: #0087ff\">Dense</span>)                │ ?                      │   <span style=\"color: #00af00; text-decoration-color: #00af00\">0</span> (unbuilt) │\n",
              "└─────────────────────────────────┴────────────────────────┴───────────────┘\n",
              "</pre>\n"
            ],
            "text/plain": [
              "┏━━━━━━━━━━━━━━━━━━━━━━━━━━━━━━━━━┳━━━━━━━━━━━━━━━━━━━━━━━━┳━━━━━━━━━━━━━━━┓\n",
              "┃\u001b[1m \u001b[0m\u001b[1mLayer (type)                   \u001b[0m\u001b[1m \u001b[0m┃\u001b[1m \u001b[0m\u001b[1mOutput Shape          \u001b[0m\u001b[1m \u001b[0m┃\u001b[1m \u001b[0m\u001b[1m      Param #\u001b[0m\u001b[1m \u001b[0m┃\n",
              "┡━━━━━━━━━━━━━━━━━━━━━━━━━━━━━━━━━╇━━━━━━━━━━━━━━━━━━━━━━━━╇━━━━━━━━━━━━━━━┩\n",
              "│ embedding_9 (\u001b[38;5;33mEmbedding\u001b[0m)         │ ?                      │   \u001b[38;5;34m0\u001b[0m (unbuilt) │\n",
              "├─────────────────────────────────┼────────────────────────┼───────────────┤\n",
              "│ lstm_9 (\u001b[38;5;33mLSTM\u001b[0m)                   │ ?                      │   \u001b[38;5;34m0\u001b[0m (unbuilt) │\n",
              "├─────────────────────────────────┼────────────────────────┼───────────────┤\n",
              "│ flatten_9 (\u001b[38;5;33mFlatten\u001b[0m)             │ ?                      │   \u001b[38;5;34m0\u001b[0m (unbuilt) │\n",
              "├─────────────────────────────────┼────────────────────────┼───────────────┤\n",
              "│ dense_30 (\u001b[38;5;33mDense\u001b[0m)                │ ?                      │   \u001b[38;5;34m0\u001b[0m (unbuilt) │\n",
              "├─────────────────────────────────┼────────────────────────┼───────────────┤\n",
              "│ dense_31 (\u001b[38;5;33mDense\u001b[0m)                │ ?                      │   \u001b[38;5;34m0\u001b[0m (unbuilt) │\n",
              "├─────────────────────────────────┼────────────────────────┼───────────────┤\n",
              "│ dense_32 (\u001b[38;5;33mDense\u001b[0m)                │ ?                      │   \u001b[38;5;34m0\u001b[0m (unbuilt) │\n",
              "├─────────────────────────────────┼────────────────────────┼───────────────┤\n",
              "│ dense_33 (\u001b[38;5;33mDense\u001b[0m)                │ ?                      │   \u001b[38;5;34m0\u001b[0m (unbuilt) │\n",
              "└─────────────────────────────────┴────────────────────────┴───────────────┘\n"
            ]
          },
          "metadata": {},
          "output_type": "display_data"
        },
        {
          "data": {
            "text/html": [
              "<pre style=\"white-space:pre;overflow-x:auto;line-height:normal;font-family:Menlo,'DejaVu Sans Mono',consolas,'Courier New',monospace\"><span style=\"font-weight: bold\"> Total params: </span><span style=\"color: #00af00; text-decoration-color: #00af00\">0</span> (0.00 B)\n",
              "</pre>\n"
            ],
            "text/plain": [
              "\u001b[1m Total params: \u001b[0m\u001b[38;5;34m0\u001b[0m (0.00 B)\n"
            ]
          },
          "metadata": {},
          "output_type": "display_data"
        },
        {
          "data": {
            "text/html": [
              "<pre style=\"white-space:pre;overflow-x:auto;line-height:normal;font-family:Menlo,'DejaVu Sans Mono',consolas,'Courier New',monospace\"><span style=\"font-weight: bold\"> Trainable params: </span><span style=\"color: #00af00; text-decoration-color: #00af00\">0</span> (0.00 B)\n",
              "</pre>\n"
            ],
            "text/plain": [
              "\u001b[1m Trainable params: \u001b[0m\u001b[38;5;34m0\u001b[0m (0.00 B)\n"
            ]
          },
          "metadata": {},
          "output_type": "display_data"
        },
        {
          "data": {
            "text/html": [
              "<pre style=\"white-space:pre;overflow-x:auto;line-height:normal;font-family:Menlo,'DejaVu Sans Mono',consolas,'Courier New',monospace\"><span style=\"font-weight: bold\"> Non-trainable params: </span><span style=\"color: #00af00; text-decoration-color: #00af00\">0</span> (0.00 B)\n",
              "</pre>\n"
            ],
            "text/plain": [
              "\u001b[1m Non-trainable params: \u001b[0m\u001b[38;5;34m0\u001b[0m (0.00 B)\n"
            ]
          },
          "metadata": {},
          "output_type": "display_data"
        }
      ],
      "source": [
        "model = Sequential()\n",
        "model.add(Embedding(input_dim=VOCAB_SIZE, output_dim=EMBEDDING_DIM, embeddings_initializer=Constant(embed_matrix)))\n",
        "model.add(LSTM(256, return_sequences=False)) # loss stucks at about \n",
        "model.add(Flatten())\n",
        "model.add(Dense(128,activation='relu'))\n",
        "# model.add(Dropout(0.50))\n",
        "model.add(Dense(64,activation='relu'))\n",
        "# model.add(Dropout(0.20))\n",
        "model.add(Dense(32,activation='relu'))\n",
        "model.add(Dense(4,activation='softmax'))  # sigmod for bin. classification.\n",
        "model.compile(optimizer='adam', loss='categorical_crossentropy', metrics=['accuracy'])\n",
        "model.summary()"
      ]
    },
    {
      "cell_type": "code",
      "execution_count": 114,
      "metadata": {},
      "outputs": [
        {
          "name": "stdout",
          "output_type": "stream",
          "text": [
            "Epoch 1/20\n",
            "\u001b[1m764/764\u001b[0m \u001b[32m━━━━━━━━━━━━━━━━━━━━\u001b[0m\u001b[37m\u001b[0m \u001b[1m51s\u001b[0m 51ms/step - accuracy: 0.8568 - loss: 0.4096 - val_accuracy: 0.6463 - val_loss: 1.3051\n",
            "Epoch 2/20\n",
            "\u001b[1m764/764\u001b[0m \u001b[32m━━━━━━━━━━━━━━━━━━━━\u001b[0m\u001b[37m\u001b[0m \u001b[1m39s\u001b[0m 52ms/step - accuracy: 0.9679 - loss: 0.1005 - val_accuracy: 0.6673 - val_loss: 1.0483\n",
            "Epoch 3/20\n",
            "\u001b[1m764/764\u001b[0m \u001b[32m━━━━━━━━━━━━━━━━━━━━\u001b[0m\u001b[37m\u001b[0m \u001b[1m39s\u001b[0m 52ms/step - accuracy: 0.9828 - loss: 0.0536 - val_accuracy: 0.6947 - val_loss: 1.2516\n",
            "Epoch 4/20\n",
            "\u001b[1m764/764\u001b[0m \u001b[32m━━━━━━━━━━━━━━━━━━━━\u001b[0m\u001b[37m\u001b[0m \u001b[1m39s\u001b[0m 51ms/step - accuracy: 0.9911 - loss: 0.0287 - val_accuracy: 0.7110 - val_loss: 1.5065\n",
            "Epoch 5/20\n",
            "\u001b[1m764/764\u001b[0m \u001b[32m━━━━━━━━━━━━━━━━━━━━\u001b[0m\u001b[37m\u001b[0m \u001b[1m39s\u001b[0m 51ms/step - accuracy: 0.9932 - loss: 0.0210 - val_accuracy: 0.6233 - val_loss: 2.2983\n",
            "Epoch 6/20\n",
            "\u001b[1m764/764\u001b[0m \u001b[32m━━━━━━━━━━━━━━━━━━━━\u001b[0m\u001b[37m\u001b[0m \u001b[1m39s\u001b[0m 52ms/step - accuracy: 0.9969 - loss: 0.0106 - val_accuracy: 0.6877 - val_loss: 1.7878\n",
            "Epoch 7/20\n",
            "\u001b[1m764/764\u001b[0m \u001b[32m━━━━━━━━━━━━━━━━━━━━\u001b[0m\u001b[37m\u001b[0m \u001b[1m40s\u001b[0m 52ms/step - accuracy: 0.9968 - loss: 0.0102 - val_accuracy: 0.6993 - val_loss: 1.5724\n",
            "Epoch 8/20\n",
            "\u001b[1m764/764\u001b[0m \u001b[32m━━━━━━━━━━━━━━━━━━━━\u001b[0m\u001b[37m\u001b[0m \u001b[1m40s\u001b[0m 52ms/step - accuracy: 0.9960 - loss: 0.0130 - val_accuracy: 0.6427 - val_loss: 2.0846\n",
            "Epoch 9/20\n",
            "\u001b[1m764/764\u001b[0m \u001b[32m━━━━━━━━━━━━━━━━━━━━\u001b[0m\u001b[37m\u001b[0m \u001b[1m39s\u001b[0m 51ms/step - accuracy: 0.9979 - loss: 0.0065 - val_accuracy: 0.7163 - val_loss: 1.7579\n",
            "Epoch 10/20\n",
            "\u001b[1m764/764\u001b[0m \u001b[32m━━━━━━━━━━━━━━━━━━━━\u001b[0m\u001b[37m\u001b[0m \u001b[1m40s\u001b[0m 52ms/step - accuracy: 0.9989 - loss: 0.0035 - val_accuracy: 0.6773 - val_loss: 2.1196\n",
            "Epoch 11/20\n",
            "\u001b[1m764/764\u001b[0m \u001b[32m━━━━━━━━━━━━━━━━━━━━\u001b[0m\u001b[37m\u001b[0m \u001b[1m40s\u001b[0m 52ms/step - accuracy: 0.9988 - loss: 0.0039 - val_accuracy: 0.7037 - val_loss: 1.8901\n",
            "Epoch 12/20\n",
            "\u001b[1m764/764\u001b[0m \u001b[32m━━━━━━━━━━━━━━━━━━━━\u001b[0m\u001b[37m\u001b[0m \u001b[1m40s\u001b[0m 52ms/step - accuracy: 0.9990 - loss: 0.0041 - val_accuracy: 0.7123 - val_loss: 1.5588\n",
            "Epoch 13/20\n",
            "\u001b[1m764/764\u001b[0m \u001b[32m━━━━━━━━━━━━━━━━━━━━\u001b[0m\u001b[37m\u001b[0m \u001b[1m40s\u001b[0m 52ms/step - accuracy: 0.9977 - loss: 0.0086 - val_accuracy: 0.7207 - val_loss: 2.2196\n",
            "Epoch 14/20\n",
            "\u001b[1m764/764\u001b[0m \u001b[32m━━━━━━━━━━━━━━━━━━━━\u001b[0m\u001b[37m\u001b[0m \u001b[1m40s\u001b[0m 52ms/step - accuracy: 0.9986 - loss: 0.0051 - val_accuracy: 0.7023 - val_loss: 1.7813\n",
            "Epoch 15/20\n",
            "\u001b[1m764/764\u001b[0m \u001b[32m━━━━━━━━━━━━━━━━━━━━\u001b[0m\u001b[37m\u001b[0m \u001b[1m40s\u001b[0m 52ms/step - accuracy: 0.9996 - loss: 0.0015 - val_accuracy: 0.7013 - val_loss: 1.8414\n",
            "Epoch 16/20\n",
            "\u001b[1m764/764\u001b[0m \u001b[32m━━━━━━━━━━━━━━━━━━━━\u001b[0m\u001b[37m\u001b[0m \u001b[1m39s\u001b[0m 51ms/step - accuracy: 0.9997 - loss: 0.0013 - val_accuracy: 0.6847 - val_loss: 2.0256\n",
            "Epoch 17/20\n",
            "\u001b[1m764/764\u001b[0m \u001b[32m━━━━━━━━━━━━━━━━━━━━\u001b[0m\u001b[37m\u001b[0m \u001b[1m39s\u001b[0m 51ms/step - accuracy: 0.9995 - loss: 0.0021 - val_accuracy: 0.6067 - val_loss: 2.7568\n",
            "Epoch 18/20\n",
            "\u001b[1m764/764\u001b[0m \u001b[32m━━━━━━━━━━━━━━━━━━━━\u001b[0m\u001b[37m\u001b[0m \u001b[1m39s\u001b[0m 51ms/step - accuracy: 0.9983 - loss: 0.0062 - val_accuracy: 0.6720 - val_loss: 2.4764\n",
            "Epoch 19/20\n",
            "\u001b[1m764/764\u001b[0m \u001b[32m━━━━━━━━━━━━━━━━━━━━\u001b[0m\u001b[37m\u001b[0m \u001b[1m39s\u001b[0m 52ms/step - accuracy: 0.9974 - loss: 0.0108 - val_accuracy: 0.7070 - val_loss: 2.4255\n",
            "Epoch 20/20\n",
            "\u001b[1m 42/764\u001b[0m \u001b[32m━\u001b[0m\u001b[37m━━━━━━━━━━━━━━━━━━━\u001b[0m \u001b[1m35s\u001b[0m 49ms/step - accuracy: 1.0000 - loss: 2.9709e-04"
          ]
        }
      ],
      "source": [
        "model.fit(X_train, y_train, epochs=20, batch_size=64, validation_data=(X_test, y_test))"
      ]
    },
    {
      "cell_type": "markdown",
      "metadata": {
        "id": "GPo0-5V-UlW_"
      },
      "source": [
        "# Model Scoring"
      ]
    },
    {
      "cell_type": "code",
      "execution_count": null,
      "metadata": {
        "id": "3PAoqjhFUn9H"
      },
      "outputs": [
        {
          "name": "stdout",
          "output_type": "stream",
          "text": [
            "\u001b[1m94/94\u001b[0m \u001b[32m━━━━━━━━━━━━━━━━━━━━\u001b[0m\u001b[37m\u001b[0m \u001b[1m2s\u001b[0m 22ms/step - accuracy: 0.6417 - loss: 6.1433\n"
          ]
        },
        {
          "data": {
            "text/plain": [
              "[5.260351657867432, 0.7036666870117188]"
            ]
          },
          "execution_count": 108,
          "metadata": {},
          "output_type": "execute_result"
        }
      ],
      "source": [
        "model.evaluate(X_test, y_test)"
      ]
    },
    {
      "cell_type": "code",
      "execution_count": null,
      "metadata": {},
      "outputs": [
        {
          "name": "stdout",
          "output_type": "stream",
          "text": [
            "\u001b[1m1527/1527\u001b[0m \u001b[32m━━━━━━━━━━━━━━━━━━━━\u001b[0m\u001b[37m\u001b[0m \u001b[1m30s\u001b[0m 20ms/step\n",
            "              precision    recall  f1-score   support\n",
            "\n",
            "           0       1.00      1.00      1.00     14047\n",
            "           1       1.00      1.00      1.00      6942\n",
            "           2       1.00      1.00      1.00     17870\n",
            "           3       1.00      1.00      1.00      9995\n",
            "\n",
            "    accuracy                           1.00     48854\n",
            "   macro avg       1.00      1.00      1.00     48854\n",
            "weighted avg       1.00      1.00      1.00     48854\n",
            "\n"
          ]
        }
      ],
      "source": [
        "# Accuracy, Precision, Recall, F1 Score for Training Data\n",
        "y_pred = model.predict(X_train)\n",
        "y_pred = np.argmax(y_pred, axis=1)\n",
        "y_true = np.argmax(y_train, axis=1)\n",
        "print(classification_report(y_true, y_pred))"
      ]
    },
    {
      "cell_type": "code",
      "execution_count": null,
      "metadata": {},
      "outputs": [
        {
          "data": {
            "image/png": "[encoded data removed]",
            "text/plain": [
              "<Figure size 1000x700 with 2 Axes>"
            ]
          },
          "metadata": {},
          "output_type": "display_data"
        }
      ],
      "source": [
        "# Confusion matrix for Training Data\n",
        "cm = confusion_matrix(y_true, y_pred)\n",
        "plt.figure(figsize=(10, 7))\n",
        "sns.heatmap(cm, annot=True, fmt='d', cmap='Blues')\n",
        "plt.xlabel('Predicted')\n",
        "plt.ylabel('True')\n",
        "plt.title('Confusion Matrix')\n",
        "plt.show()"
      ]
    },
    {
      "cell_type": "code",
      "execution_count": null,
      "metadata": {},
      "outputs": [
        {
          "name": "stdout",
          "output_type": "stream",
          "text": [
            "\u001b[1m94/94\u001b[0m \u001b[32m━━━━━━━━━━━━━━━━━━━━\u001b[0m\u001b[37m\u001b[0m \u001b[1m2s\u001b[0m 19ms/step\n",
            "              precision    recall  f1-score   support\n",
            "\n",
            "           0       0.87      0.64      0.74       750\n",
            "           1       0.62      0.55      0.58       750\n",
            "           2       0.61      0.78      0.68       750\n",
            "           3       0.78      0.84      0.81       750\n",
            "\n",
            "    accuracy                           0.70      3000\n",
            "   macro avg       0.72      0.70      0.70      3000\n",
            "weighted avg       0.72      0.70      0.70      3000\n",
            "\n"
          ]
        }
      ],
      "source": [
        "# Accuracy, Precision, Recall, F1 Score for Testing Data\n",
        "y_pred = model.predict(X_test)\n",
        "y_pred = np.argmax(y_pred, axis=1)\n",
        "y_true = np.argmax(y_test, axis=1)\n",
        "print(classification_report(y_true, y_pred))"
      ]
    },
    {
      "cell_type": "markdown",
      "metadata": {},
      "source": [
        "4 layer (128, 64, 32, 16) 15 epochs\n",
        "              precision    recall  f1-score   support\n",
        "\n",
        "           0       0.87      0.79      0.83       750\n",
        "           1       0.66      0.40      0.50       750\n",
        "           2       0.57      0.88      0.69       750\n",
        "           3       0.89      0.83      0.86       750\n",
        "\n",
        "    accuracy                           0.73      3000\n",
        "   macro avg       0.75      0.73      0.72      3000\n",
        "weighted avg       0.75      0.73      0.72      3000"
      ]
    },
    {
      "cell_type": "code",
      "execution_count": null,
      "metadata": {},
      "outputs": [
        {
          "data": {
            "image/png": "[encoded data removed]",
            "text/plain": [
              "<Figure size 1000x700 with 2 Axes>"
            ]
          },
          "metadata": {},
          "output_type": "display_data"
        }
      ],
      "source": [
        "# Confusion matrix for Testing Data\n",
        "cm = confusion_matrix(y_true, y_pred)\n",
        "plt.figure(figsize=(10, 7))\n",
        "sns.heatmap(cm, annot=True, fmt='d', cmap='Blues')\n",
        "plt.xlabel('Predicted')\n",
        "plt.ylabel('True')\n",
        "plt.title('Confusion Matrix')\n",
        "plt.show()"
      ]
    }
  ],
  "metadata": {
    "colab": {
      "provenance": []
    },
    "kernelspec": {
      "display_name": "Python 3",
      "name": "python3"
    },
    "language_info": {
      "codemirror_mode": {
        "name": "ipython",
        "version": 3
      },
      "file_extension": ".py",
      "mimetype": "text/x-python",
      "name": "python",
      "nbconvert_exporter": "python",
      "pygments_lexer": "ipython3",
      "version": "3.11.8"
    }
  },
  "nbformat": 4,
  "nbformat_minor": 0
}
